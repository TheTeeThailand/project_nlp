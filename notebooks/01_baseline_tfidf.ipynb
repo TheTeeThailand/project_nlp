{
 "cells": [
  {
   "cell_type": "markdown",
   "id": "2b08a310-1e3c-41ea-95da-6804d6665c6c",
   "metadata": {},
   "source": [
    "# Phase 0: Import Necessary Libraries"
   ]
  },
  {
   "cell_type": "code",
   "execution_count": 5,
   "id": "83f5e624-e7ff-4573-add4-39f936bf7a0f",
   "metadata": {},
   "outputs": [
    {
     "name": "stdout",
     "output_type": "stream",
     "text": [
      "Python version      : 3.10.18 (main, Jun  5 2025, 08:37:47) [Clang 14.0.6 ]\n",
      "NumPy version       : 1.23.5\n",
      "Pandas version      : 2.3.1\n",
      "Scikit-learn version: 1.7.1\n",
      "Matplotlib version  : 3.10.5\n",
      "Seaborn version     : 0.13.2\n",
      "Transformers version: 4.30.2\n",
      "Huggingface Datasets: 4.0.0\n",
      "PyTorch version     : 2.7.1\n",
      "TQDM version        : 4.67.1\n",
      "CPU architecture    : arm\n"
     ]
    }
   ],
   "source": [
    "# System Info\n",
    "import sys       # Access system-specific parameters and Python version\n",
    "import os        # Interface with the operating system\n",
    "import platform  # Get underlying platform and hardware info\n",
    "\n",
    "# Data Processing\n",
    "import numpy  # Numerical operations and arrays\n",
    "import pandas as pd  # Data manipulation and analysis using DataFrames\n",
    "\n",
    "# Visualization\n",
    "import matplotlib  # Basic plotting library\n",
    "import seaborn as sns  # Statistical data visualization on top of matplotlib\n",
    "\n",
    "# Machine Learning & NLP\n",
    "import sklearn  # Machine learning tools and TF-IDF baseline\n",
    "import transformers  # Huggingface library for pretrained transformer models like BERT\n",
    "import datasets  # Huggingface datasets library for loading NLP datasets\n",
    "\n",
    "# Deep Learning\n",
    "import torch  # PyTorch library for tensor operations and model training\n",
    "\n",
    "# Progress Bars\n",
    "import tqdm  # Show progress bars for loops and training\n",
    "\n",
    "# Display versions\n",
    "print(f\"Python version      : {sys.version}\")\n",
    "print(f\"NumPy version       : {numpy.__version__}\")\n",
    "print(f\"Pandas version      : {pd.__version__}\")\n",
    "print(f\"Scikit-learn version: {sklearn.__version__}\")\n",
    "print(f\"Matplotlib version  : {matplotlib.__version__}\")\n",
    "print(f\"Seaborn version     : {sns.__version__}\")\n",
    "print(f\"Transformers version: {transformers.__version__}\")\n",
    "print(f\"Huggingface Datasets: {datasets.__version__}\")\n",
    "print(f\"PyTorch version     : {torch.__version__}\")\n",
    "print(f\"TQDM version        : {tqdm.__version__}\")\n",
    "print(f\"CPU architecture    : {platform.processor() or platform.machine()}\")"
   ]
  },
  {
   "cell_type": "markdown",
   "id": "c5b2dae3-96c5-4b63-8c60-ccc254a1f8ef",
   "metadata": {},
   "source": [
    "# Phase 1: Baseline Modeling"
   ]
  },
  {
   "cell_type": "markdown",
   "id": "27d97e8a-87d4-4dec-a939-bca792a567df",
   "metadata": {},
   "source": [
    "## Step 1: Load Dataset (SNLI)"
   ]
  },
  {
   "cell_type": "code",
   "execution_count": 6,
   "id": "468a212e-e651-4e53-a9ea-f04ac65107f0",
   "metadata": {},
   "outputs": [
    {
     "data": {
      "application/vnd.jupyter.widget-view+json": {
       "model_id": "b92f7b478ab24f1db9deb50268f0ee5e",
       "version_major": 2,
       "version_minor": 0
      },
      "text/plain": [
       "README.md: 0.00B [00:00, ?B/s]"
      ]
     },
     "metadata": {},
     "output_type": "display_data"
    },
    {
     "data": {
      "application/vnd.jupyter.widget-view+json": {
       "model_id": "b3e6ccfa2cc543a2af4108ca6b65666e",
       "version_major": 2,
       "version_minor": 0
      },
      "text/plain": [
       "test-00000-of-00001.parquet:   0%|          | 0.00/412k [00:00<?, ?B/s]"
      ]
     },
     "metadata": {},
     "output_type": "display_data"
    },
    {
     "data": {
      "application/vnd.jupyter.widget-view+json": {
       "model_id": "afaf63bd467f4a00ba54181808383def",
       "version_major": 2,
       "version_minor": 0
      },
      "text/plain": [
       "validation-00000-of-00001.parquet:   0%|          | 0.00/413k [00:00<?, ?B/s]"
      ]
     },
     "metadata": {},
     "output_type": "display_data"
    },
    {
     "data": {
      "application/vnd.jupyter.widget-view+json": {
       "model_id": "9a9f11353b264f958ddbfe6d137f52e3",
       "version_major": 2,
       "version_minor": 0
      },
      "text/plain": [
       "train-00000-of-00001.parquet:   0%|          | 0.00/19.6M [00:00<?, ?B/s]"
      ]
     },
     "metadata": {},
     "output_type": "display_data"
    },
    {
     "data": {
      "application/vnd.jupyter.widget-view+json": {
       "model_id": "a1ca356272354bd48e0468cfdcef7be7",
       "version_major": 2,
       "version_minor": 0
      },
      "text/plain": [
       "Generating test split:   0%|          | 0/10000 [00:00<?, ? examples/s]"
      ]
     },
     "metadata": {},
     "output_type": "display_data"
    },
    {
     "data": {
      "application/vnd.jupyter.widget-view+json": {
       "model_id": "7eab429fd1624388ab9d3dda8dfbf35e",
       "version_major": 2,
       "version_minor": 0
      },
      "text/plain": [
       "Generating validation split:   0%|          | 0/10000 [00:00<?, ? examples/s]"
      ]
     },
     "metadata": {},
     "output_type": "display_data"
    },
    {
     "data": {
      "application/vnd.jupyter.widget-view+json": {
       "model_id": "d36866e8ec064560b55cd56a9310fbe2",
       "version_major": 2,
       "version_minor": 0
      },
      "text/plain": [
       "Generating train split:   0%|          | 0/550152 [00:00<?, ? examples/s]"
      ]
     },
     "metadata": {},
     "output_type": "display_data"
    },
    {
     "data": {
      "application/vnd.jupyter.widget-view+json": {
       "model_id": "59e604a1d81d49e69e94cc60472dbbe5",
       "version_major": 2,
       "version_minor": 0
      },
      "text/plain": [
       "Filter:   0%|          | 0/550152 [00:00<?, ? examples/s]"
      ]
     },
     "metadata": {},
     "output_type": "display_data"
    },
    {
     "data": {
      "application/vnd.jupyter.widget-view+json": {
       "model_id": "7c512828f4134b199c75d61d02693e68",
       "version_major": 2,
       "version_minor": 0
      },
      "text/plain": [
       "Filter:   0%|          | 0/10000 [00:00<?, ? examples/s]"
      ]
     },
     "metadata": {},
     "output_type": "display_data"
    },
    {
     "name": "stdout",
     "output_type": "stream",
     "text": [
      "{'premise': 'A group of people riding a yellow roller coaster.', 'hypothesis': 'A group of people are riding a roller coaster.', 'label': 0}\n"
     ]
    }
   ],
   "source": [
    "from datasets import load_dataset\n",
    "\n",
    "# Load SNLI dataset from HuggingFace\n",
    "snli_dataset = load_dataset(\"snli\")\n",
    "\n",
    "# Filter out invalid labels (-1 means label not available)\n",
    "def is_valid(example):\n",
    "    return example['label'] != -1\n",
    "\n",
    "snli_dataset[\"train\"] = snli_dataset[\"train\"].filter(is_valid)\n",
    "snli_dataset[\"test\"] = snli_dataset[\"test\"].filter(is_valid)\n",
    "\n",
    "# Sample: 10,000 from train, 5,000 from test\n",
    "train_data = snli_dataset[\"train\"].shuffle(seed=42).select(range(10000))\n",
    "test_data = snli_dataset[\"test\"].shuffle(seed=42).select(range(5000))\n",
    "\n",
    "# Preview sample\n",
    "print(train_data[0])\n"
   ]
  },
  {
   "cell_type": "markdown",
   "id": "f03c568f-e02b-495a-a816-ea84d69b927b",
   "metadata": {},
   "source": [
    "## Step 2: Preprocess + TF-IDF Vectorization"
   ]
  },
  {
   "cell_type": "markdown",
   "id": "4f40e82a-4d50-434b-a6b9-75e9ddb893d2",
   "metadata": {},
   "source": [
    "### Step 2.1: Extract texts and labels"
   ]
  },
  {
   "cell_type": "code",
   "execution_count": 7,
   "id": "d9c4eb13-d485-4244-9e89-8e28db451605",
   "metadata": {},
   "outputs": [],
   "source": [
    "# Extract features and labels\n",
    "X_train = [f\"{ex['premise']} [SEP] {ex['hypothesis']}\" for ex in train_data]\n",
    "y_train = [ex['label'] for ex in train_data]\n",
    "\n",
    "X_test = [f\"{ex['premise']} [SEP] {ex['hypothesis']}\" for ex in test_data]\n",
    "y_test = [ex['label'] for ex in test_data]"
   ]
  },
  {
   "cell_type": "markdown",
   "id": "62960398-ea87-42d9-87b3-6941f1fae2a2",
   "metadata": {},
   "source": [
    "### Step 2.2: TF-IDF Vectorization"
   ]
  },
  {
   "cell_type": "code",
   "execution_count": 8,
   "id": "61638737-dabd-4403-8943-d7c2e983ed5e",
   "metadata": {},
   "outputs": [],
   "source": [
    "from sklearn.feature_extraction.text import TfidfVectorizer\n",
    "\n",
    "# Initialize TF-IDF vectorizer\n",
    "vectorizer = TfidfVectorizer(max_features=5000)\n",
    "\n",
    "# Fit on training data and transform both sets\n",
    "X_train_tfidf = vectorizer.fit_transform(X_train)\n",
    "X_test_tfidf = vectorizer.transform(X_test)\n"
   ]
  },
  {
   "cell_type": "markdown",
   "id": "9eaf9115-4983-4704-958e-466fc3ca4355",
   "metadata": {},
   "source": [
    "### Step 2.3 Verify shape"
   ]
  },
  {
   "cell_type": "code",
   "execution_count": 9,
   "id": "509d36c2-356d-43ce-a76a-6e4c5cc5bef9",
   "metadata": {},
   "outputs": [
    {
     "name": "stdout",
     "output_type": "stream",
     "text": [
      "Train shape: (10000, 5000)\n",
      "Test shape: (5000, 5000)\n"
     ]
    }
   ],
   "source": [
    "print(\"Train shape:\", X_train_tfidf.shape)\n",
    "print(\"Test shape:\", X_test_tfidf.shape)\n"
   ]
  },
  {
   "cell_type": "markdown",
   "id": "77f090a1-f7c3-4b79-ad34-b5c953a2f49f",
   "metadata": {},
   "source": [
    "## Step 3: Train Baseline Models using TF-IDF Features"
   ]
  },
  {
   "cell_type": "markdown",
   "id": "794cf0bf-834f-4759-8f3e-82198ade89b5",
   "metadata": {},
   "source": [
    "### Step 3.1: Logistic Regression – Training, Evaluation, and Error Analysis"
   ]
  },
  {
   "cell_type": "code",
   "execution_count": 11,
   "id": "8b81b9b5-de05-4646-aaf3-3bd4d3a85ca0",
   "metadata": {},
   "outputs": [
    {
     "name": "stdout",
     "output_type": "stream",
     "text": [
      " Logistic Regression - Classification Report:\n",
      "               precision    recall  f1-score   support\n",
      "\n",
      "   entailment       0.50      0.47      0.49      1716\n",
      "      neutral       0.46      0.47      0.46      1622\n",
      "contradiction       0.49      0.50      0.50      1662\n",
      "\n",
      "     accuracy                           0.48      5000\n",
      "    macro avg       0.48      0.48      0.48      5000\n",
      " weighted avg       0.48      0.48      0.48      5000\n",
      "\n"
     ]
    },
    {
     "data": {
      "image/png": "[encoded data removed]",
      "text/plain": [
       "<Figure size 600x500 with 2 Axes>"
      ]
     },
     "metadata": {},
     "output_type": "display_data"
    },
    {
     "name": "stdout",
     "output_type": "stream",
     "text": [
      "\n",
      "🔍 Logistic Regression – Error Examples:\n",
      "\n",
      "Example #1\n",
      "Premise    : A man in a grassy field throws a stick for a group of three brown dogs.\n",
      "Hypothesis : A man is playing with dogs.\n",
      "Actual     : entailment\n",
      "Predicted  : contradiction\n",
      "\n",
      "Example #2\n",
      "Premise    : Two people bicycle on a path separated by small mountains.\n",
      "Hypothesis : Two people are hiking up a mountain.\n",
      "Actual     : contradiction\n",
      "Predicted  : entailment\n",
      "\n",
      "Example #3\n",
      "Premise    : An older gentleman looks at the camera while he is building a deck.\n",
      "Hypothesis : An older gentleman looks away from the camera while he is building a birdhouse.\n",
      "Actual     : contradiction\n",
      "Predicted  : entailment\n",
      "\n",
      "Example #4\n",
      "Premise    : A young woman cooks a meal in a wok while conversing with another woman, as an illuminated shrine to Mr. T looks on.\n",
      "Hypothesis : Both of these women are clinically mute.\n",
      "Actual     : contradiction\n",
      "Predicted  : neutral\n",
      "\n",
      "Example #5\n",
      "Premise    : Rose petals being thrown at an asian couple.\n",
      "Hypothesis : An Asian couple are together.\n",
      "Actual     : entailment\n",
      "Predicted  : neutral\n",
      "\n",
      "Example #6\n",
      "Premise    : Women in costume stand on a stage.\n",
      "Hypothesis : The women are performing a play.\n",
      "Actual     : neutral\n",
      "Predicted  : contradiction\n",
      "\n",
      "Example #7\n",
      "Premise    : It looks like quite a sweaty, smelly dog pile over one little rugby ball, but the boys in blue seem to want it more.\n",
      "Hypothesis : A little boy wants a dirty rugby ball\n",
      "Actual     : entailment\n",
      "Predicted  : neutral\n",
      "\n",
      "Example #8\n",
      "Premise    : Bicyclist ride the course near the ocean as the day comes to an end.\n",
      "Hypothesis : The cyclist was riding in the morning.\n",
      "Actual     : contradiction\n",
      "Predicted  : neutral\n",
      "\n",
      "Example #9\n",
      "Premise    : A little girl has her arms around a little boy standing on a wooden bridge in the woods.\n",
      "Hypothesis : The children hug in the woods.\n",
      "Actual     : entailment\n",
      "Predicted  : contradiction\n",
      "\n",
      "Example #10\n",
      "Premise    : A man reads the paper in a bar with green lighting.\n",
      "Hypothesis : The man is reading the sportspage.\n",
      "Actual     : neutral\n",
      "Predicted  : contradiction\n",
      "\n",
      "Example #11\n",
      "Premise    : Two casually-dressed men, one in a cowboy hat and one in a baseball cap, make their way through a crowd.\n",
      "Hypothesis : A man is wearing a cowboy hat.\n",
      "Actual     : entailment\n",
      "Predicted  : contradiction\n",
      "\n",
      "Example #12\n",
      "Premise    : A little boy with a shirt, shorts and socks on, standing on the beach.\n",
      "Hypothesis : A boy is watching the ocean.\n",
      "Actual     : neutral\n",
      "Predicted  : contradiction\n",
      "\n",
      "Example #13\n",
      "Premise    : It's another day of celebration, with a parade and signs, with many people in attendance.\n",
      "Hypothesis : People have gathered for a funeral\n",
      "Actual     : contradiction\n",
      "Predicted  : neutral\n",
      "\n",
      "Example #14\n",
      "Premise    : A dog and a cat are swimming in a swimming pool.\n",
      "Hypothesis : Two animals are swimming.\n",
      "Actual     : entailment\n",
      "Predicted  : contradiction\n",
      "\n",
      "Example #15\n",
      "Premise    : Woman adjusting her eyeglasses.\n",
      "Hypothesis : Woman adjusts her glasses.\n",
      "Actual     : entailment\n",
      "Predicted  : neutral\n",
      "\n",
      "Example #16\n",
      "Premise    : An artist replicating another artist's work and a man looking at the original art.\n",
      "Hypothesis : A person is crafting a replica of another's creation.\n",
      "Actual     : entailment\n",
      "Predicted  : neutral\n",
      "\n",
      "Example #17\n",
      "Premise    : A woman with a white blanket over her head is holding a baby wrapped in a blue, pink, and yellow blanket.\n",
      "Hypothesis : The blanket is white.\n",
      "Actual     : entailment\n",
      "Predicted  : neutral\n",
      "\n",
      "Example #18\n",
      "Premise    : A young girl is playing a musical instrument and singing into a microphone.\n",
      "Hypothesis : A little girl belts one out while playing the violin.\n",
      "Actual     : neutral\n",
      "Predicted  : contradiction\n",
      "\n",
      "Example #19\n",
      "Premise    : Little girl blows bubbles in a public square.\n",
      "Hypothesis : Little boy blows spit at people who walk by.\n",
      "Actual     : contradiction\n",
      "Predicted  : entailment\n",
      "\n",
      "Example #20\n",
      "Premise    : pedestrian walking on the street\n",
      "Hypothesis : A person crossing a busy street intersection.\n",
      "Actual     : neutral\n",
      "Predicted  : entailment\n"
     ]
    }
   ],
   "source": [
    "from sklearn.linear_model import LogisticRegression\n",
    "from sklearn.metrics import classification_report, confusion_matrix\n",
    "import matplotlib.pyplot as plt\n",
    "import seaborn as sns\n",
    "\n",
    "# Define class labels\n",
    "labels = [\"entailment\", \"neutral\", \"contradiction\"]\n",
    "\n",
    "# Initialize and train the Logistic Regression model\n",
    "logreg_model = LogisticRegression(max_iter=1000)\n",
    "logreg_model.fit(X_train_tfidf, y_train)\n",
    "\n",
    "# Predict on test set\n",
    "y_pred_logreg = logreg_model.predict(X_test_tfidf)\n",
    "\n",
    "# Print classification report\n",
    "print(\" Logistic Regression - Classification Report:\")\n",
    "print(classification_report(y_test, y_pred_logreg, target_names=labels))\n",
    "\n",
    "# Confusion matrix\n",
    "cm_logreg = confusion_matrix(y_test, y_pred_logreg)\n",
    "\n",
    "# Plot confusion matrix\n",
    "plt.figure(figsize=(6, 5))\n",
    "sns.heatmap(cm_logreg, annot=True, fmt=\"d\", cmap=\"Blues\", xticklabels=labels, yticklabels=labels)\n",
    "plt.title(\"Logistic Regression - Confusion Matrix\")\n",
    "plt.xlabel(\"Predicted\")\n",
    "plt.ylabel(\"Actual\")\n",
    "plt.tight_layout()\n",
    "plt.show()\n",
    "\n",
    "\n",
    "# Show 20 incorrect predictions for error analysis\n",
    "print(\"\\n🔍 Logistic Regression – Error Examples:\")\n",
    "count = 0\n",
    "for i in range(len(y_test)):\n",
    "    if y_test[i] != y_pred_logreg[i]:\n",
    "        print(f\"\\nExample #{count+1}\")\n",
    "        print(f\"Premise    : {test_data[i]['premise']}\")\n",
    "        print(f\"Hypothesis : {test_data[i]['hypothesis']}\")\n",
    "        print(f\"Actual     : {labels[y_test[i]]}\")\n",
    "        print(f\"Predicted  : {labels[y_pred_logreg[i]]}\")\n",
    "        count += 1\n",
    "        if count >= 20:\n",
    "            break\n"
   ]
  },
  {
   "cell_type": "markdown",
   "id": "4b98ae94-d746-4db8-9cd7-db99a8070150",
   "metadata": {},
   "source": [
    "### Step 3.2: Naive Bayes – Training, Evaluation, and Error Analysis"
   ]
  },
  {
   "cell_type": "code",
   "execution_count": 13,
   "id": "d8807db1-2c2e-4f3e-8b96-2856a12d15be",
   "metadata": {},
   "outputs": [
    {
     "name": "stdout",
     "output_type": "stream",
     "text": [
      " Naive Bayes - Classification Report:\n",
      "               precision    recall  f1-score   support\n",
      "\n",
      "   entailment       0.45      0.47      0.46      1716\n",
      "      neutral       0.47      0.41      0.43      1622\n",
      "contradiction       0.47      0.51      0.49      1662\n",
      "\n",
      "     accuracy                           0.46      5000\n",
      "    macro avg       0.46      0.46      0.46      5000\n",
      " weighted avg       0.46      0.46      0.46      5000\n",
      "\n"
     ]
    },
    {
     "data": {
      "image/png": "[encoded data removed]",
      "text/plain": [
       "<Figure size 600x500 with 2 Axes>"
      ]
     },
     "metadata": {},
     "output_type": "display_data"
    },
    {
     "name": "stdout",
     "output_type": "stream",
     "text": [
      "\n",
      "🔍 Naive Bayes – Error Examples:\n",
      "\n",
      "Example #1\n",
      "Premise    : A man is using what looks to be a fax machine.\n",
      "Hypothesis : A person is using what looks to be a fax machine.\n",
      "Actual     : entailment\n",
      "Predicted  : neutral\n",
      "\n",
      "Example #2\n",
      "Premise    : A man in a grassy field throws a stick for a group of three brown dogs.\n",
      "Hypothesis : A man is playing with dogs.\n",
      "Actual     : entailment\n",
      "Predicted  : contradiction\n",
      "\n",
      "Example #3\n",
      "Premise    : Two people bicycle on a path separated by small mountains.\n",
      "Hypothesis : Two people are hiking up a mountain.\n",
      "Actual     : contradiction\n",
      "Predicted  : entailment\n",
      "\n",
      "Example #4\n",
      "Premise    : Workers wearing orange vests stand near rail tracks.\n",
      "Hypothesis : Workers wearing orange are about to repair rail tracks.\n",
      "Actual     : neutral\n",
      "Predicted  : entailment\n",
      "\n",
      "Example #5\n",
      "Premise    : An older gentleman looks at the camera while he is building a deck.\n",
      "Hypothesis : An older gentleman looks away from the camera while he is building a birdhouse.\n",
      "Actual     : contradiction\n",
      "Predicted  : entailment\n",
      "\n",
      "Example #6\n",
      "Premise    : A young woman cooks a meal in a wok while conversing with another woman, as an illuminated shrine to Mr. T looks on.\n",
      "Hypothesis : Both of these women are clinically mute.\n",
      "Actual     : contradiction\n",
      "Predicted  : neutral\n",
      "\n",
      "Example #7\n",
      "Premise    : Rose petals being thrown at an asian couple.\n",
      "Hypothesis : An Asian couple are together.\n",
      "Actual     : entailment\n",
      "Predicted  : neutral\n",
      "\n",
      "Example #8\n",
      "Premise    : Women in costume stand on a stage.\n",
      "Hypothesis : The women are performing a play.\n",
      "Actual     : neutral\n",
      "Predicted  : entailment\n",
      "\n",
      "Example #9\n",
      "Premise    : It looks like quite a sweaty, smelly dog pile over one little rugby ball, but the boys in blue seem to want it more.\n",
      "Hypothesis : A little boy wants a dirty rugby ball\n",
      "Actual     : entailment\n",
      "Predicted  : neutral\n",
      "\n",
      "Example #10\n",
      "Premise    : Bicyclist ride the course near the ocean as the day comes to an end.\n",
      "Hypothesis : The cyclist was riding in the morning.\n",
      "Actual     : contradiction\n",
      "Predicted  : entailment\n",
      "\n",
      "Example #11\n",
      "Premise    : A little girl has her arms around a little boy standing on a wooden bridge in the woods.\n",
      "Hypothesis : The children hug in the woods.\n",
      "Actual     : entailment\n",
      "Predicted  : contradiction\n",
      "\n",
      "Example #12\n",
      "Premise    : A man reads the paper in a bar with green lighting.\n",
      "Hypothesis : The man is reading the sportspage.\n",
      "Actual     : neutral\n",
      "Predicted  : contradiction\n",
      "\n",
      "Example #13\n",
      "Premise    : A little boy with a shirt, shorts and socks on, standing on the beach.\n",
      "Hypothesis : A boy is watching the ocean.\n",
      "Actual     : neutral\n",
      "Predicted  : contradiction\n",
      "\n",
      "Example #14\n",
      "Premise    : It's another day of celebration, with a parade and signs, with many people in attendance.\n",
      "Hypothesis : People have gathered for a funeral\n",
      "Actual     : contradiction\n",
      "Predicted  : neutral\n",
      "\n",
      "Example #15\n",
      "Premise    : A man holding a yellow surfboard facing the ocean.\n",
      "Hypothesis : A man is holding a surfboard on the black sand beach.\n",
      "Actual     : neutral\n",
      "Predicted  : entailment\n",
      "\n",
      "Example #16\n",
      "Premise    : A dog and a cat are swimming in a swimming pool.\n",
      "Hypothesis : Two animals are swimming.\n",
      "Actual     : entailment\n",
      "Predicted  : contradiction\n",
      "\n",
      "Example #17\n",
      "Premise    : Woman adjusting her eyeglasses.\n",
      "Hypothesis : Woman adjusts her glasses.\n",
      "Actual     : entailment\n",
      "Predicted  : neutral\n",
      "\n",
      "Example #18\n",
      "Premise    : A man stands on one hand in the street while a crowd watches.\n",
      "Hypothesis : The man is street performer.\n",
      "Actual     : neutral\n",
      "Predicted  : entailment\n",
      "\n",
      "Example #19\n",
      "Premise    : A man spraying water onto a former piece of architecture that is being taken down by a piece of machinery.\n",
      "Hypothesis : A machine takes down architecture as a man sprays water on it.\n",
      "Actual     : entailment\n",
      "Predicted  : neutral\n",
      "\n",
      "Example #20\n",
      "Premise    : An artist replicating another artist's work and a man looking at the original art.\n",
      "Hypothesis : A person is crafting a replica of another's creation.\n",
      "Actual     : entailment\n",
      "Predicted  : neutral\n"
     ]
    }
   ],
   "source": [
    "from sklearn.naive_bayes import MultinomialNB\n",
    "from sklearn.metrics import classification_report, confusion_matrix\n",
    "import matplotlib.pyplot as plt\n",
    "import seaborn as sns\n",
    "\n",
    "# Define class labels for display\n",
    "labels = [\"entailment\", \"neutral\", \"contradiction\"]\n",
    "\n",
    "# Initialize and train the Naive Bayes model\n",
    "nb_model = MultinomialNB()\n",
    "nb_model.fit(X_train_tfidf, y_train)\n",
    "\n",
    "# Predict on test set\n",
    "y_pred_nb = nb_model.predict(X_test_tfidf)\n",
    "\n",
    "# Print classification report\n",
    "print(\" Naive Bayes - Classification Report:\")\n",
    "print(classification_report(y_test, y_pred_nb, target_names=labels))\n",
    "\n",
    "# Confusion matrix\n",
    "cm_nb = confusion_matrix(y_test, y_pred_nb)\n",
    "\n",
    "# Plot confusion matrix\n",
    "plt.figure(figsize=(6, 5))\n",
    "sns.heatmap(cm_nb, annot=True, fmt=\"d\", cmap=\"YlGnBu\", xticklabels=labels, yticklabels=labels)\n",
    "plt.title(\"Naive Bayes - Confusion Matrix\")\n",
    "plt.xlabel(\"Predicted\")\n",
    "plt.ylabel(\"Actual\")\n",
    "plt.tight_layout()\n",
    "plt.show()\n",
    "\n",
    "# Show 20 incorrect predictions for error analysis\n",
    "print(\"\\n🔍 Naive Bayes – Error Examples:\")\n",
    "count = 0\n",
    "for i in range(len(y_test)):\n",
    "    if y_test[i] != y_pred_nb[i]:\n",
    "        print(f\"\\nExample #{count+1}\")\n",
    "        print(f\"Premise    : {test_data[i]['premise']}\")\n",
    "        print(f\"Hypothesis : {test_data[i]['hypothesis']}\")\n",
    "        print(f\"Actual     : {labels[y_test[i]]}\")\n",
    "        print(f\"Predicted  : {labels[y_pred_nb[i]]}\")\n",
    "        count += 1\n",
    "        if count >= 20:\n",
    "            break\n"
   ]
  },
  {
   "cell_type": "markdown",
   "id": "932f69fd-7137-4d31-b1bb-e2627d46eb04",
   "metadata": {},
   "source": [
    "### Step 3.3: Llinear SVM – Training, Evaluation, and Error Analysis"
   ]
  },
  {
   "cell_type": "code",
   "execution_count": 15,
   "id": "568c39ee-3803-4db5-ab3c-719679f4ab8c",
   "metadata": {},
   "outputs": [
    {
     "name": "stdout",
     "output_type": "stream",
     "text": [
      " Linear SVM - Classification Report:\n",
      "               precision    recall  f1-score   support\n",
      "\n",
      "   entailment       0.48      0.46      0.47      1716\n",
      "      neutral       0.45      0.46      0.46      1622\n",
      "contradiction       0.48      0.50      0.49      1662\n",
      "\n",
      "     accuracy                           0.47      5000\n",
      "    macro avg       0.47      0.47      0.47      5000\n",
      " weighted avg       0.47      0.47      0.47      5000\n",
      "\n"
     ]
    },
    {
     "data": {
      "image/png": "[encoded data removed]",
      "text/plain": [
       "<Figure size 600x500 with 2 Axes>"
      ]
     },
     "metadata": {},
     "output_type": "display_data"
    },
    {
     "name": "stdout",
     "output_type": "stream",
     "text": [
      "\n",
      "🔍 Linear SVM – Error Examples:\n",
      "\n",
      "Example #1\n",
      "Premise    : A man in a grassy field throws a stick for a group of three brown dogs.\n",
      "Hypothesis : A man is playing with dogs.\n",
      "Actual     : entailment\n",
      "Predicted  : contradiction\n",
      "\n",
      "Example #2\n",
      "Premise    : Two people bicycle on a path separated by small mountains.\n",
      "Hypothesis : Two people are hiking up a mountain.\n",
      "Actual     : contradiction\n",
      "Predicted  : entailment\n",
      "\n",
      "Example #3\n",
      "Premise    : Workers wearing orange vests stand near rail tracks.\n",
      "Hypothesis : Workers wearing orange are about to repair rail tracks.\n",
      "Actual     : neutral\n",
      "Predicted  : contradiction\n",
      "\n",
      "Example #4\n",
      "Premise    : An older gentleman looks at the camera while he is building a deck.\n",
      "Hypothesis : An older gentleman looks away from the camera while he is building a birdhouse.\n",
      "Actual     : contradiction\n",
      "Predicted  : entailment\n",
      "\n",
      "Example #5\n",
      "Premise    : A young woman cooks a meal in a wok while conversing with another woman, as an illuminated shrine to Mr. T looks on.\n",
      "Hypothesis : Both of these women are clinically mute.\n",
      "Actual     : contradiction\n",
      "Predicted  : neutral\n",
      "\n",
      "Example #6\n",
      "Premise    : Rose petals being thrown at an asian couple.\n",
      "Hypothesis : An Asian couple are together.\n",
      "Actual     : entailment\n",
      "Predicted  : neutral\n",
      "\n",
      "Example #7\n",
      "Premise    : Women in costume stand on a stage.\n",
      "Hypothesis : The women are performing a play.\n",
      "Actual     : neutral\n",
      "Predicted  : contradiction\n",
      "\n",
      "Example #8\n",
      "Premise    : It looks like quite a sweaty, smelly dog pile over one little rugby ball, but the boys in blue seem to want it more.\n",
      "Hypothesis : A little boy wants a dirty rugby ball\n",
      "Actual     : entailment\n",
      "Predicted  : neutral\n",
      "\n",
      "Example #9\n",
      "Premise    : Bicyclist ride the course near the ocean as the day comes to an end.\n",
      "Hypothesis : The cyclist was riding in the morning.\n",
      "Actual     : contradiction\n",
      "Predicted  : neutral\n",
      "\n",
      "Example #10\n",
      "Premise    : A little girl has her arms around a little boy standing on a wooden bridge in the woods.\n",
      "Hypothesis : The children hug in the woods.\n",
      "Actual     : entailment\n",
      "Predicted  : contradiction\n",
      "\n",
      "Example #11\n",
      "Premise    : A man reads the paper in a bar with green lighting.\n",
      "Hypothesis : The man is reading the sportspage.\n",
      "Actual     : neutral\n",
      "Predicted  : contradiction\n",
      "\n",
      "Example #12\n",
      "Premise    : Two casually-dressed men, one in a cowboy hat and one in a baseball cap, make their way through a crowd.\n",
      "Hypothesis : A man is wearing a cowboy hat.\n",
      "Actual     : entailment\n",
      "Predicted  : contradiction\n",
      "\n",
      "Example #13\n",
      "Premise    : It's another day of celebration, with a parade and signs, with many people in attendance.\n",
      "Hypothesis : People have gathered for a funeral\n",
      "Actual     : contradiction\n",
      "Predicted  : neutral\n",
      "\n",
      "Example #14\n",
      "Premise    : A dog and a cat are swimming in a swimming pool.\n",
      "Hypothesis : Two animals are swimming.\n",
      "Actual     : entailment\n",
      "Predicted  : contradiction\n",
      "\n",
      "Example #15\n",
      "Premise    : Woman adjusting her eyeglasses.\n",
      "Hypothesis : Woman adjusts her glasses.\n",
      "Actual     : entailment\n",
      "Predicted  : neutral\n",
      "\n",
      "Example #16\n",
      "Premise    : A man spraying water onto a former piece of architecture that is being taken down by a piece of machinery.\n",
      "Hypothesis : A machine takes down architecture as a man sprays water on it.\n",
      "Actual     : entailment\n",
      "Predicted  : neutral\n",
      "\n",
      "Example #17\n",
      "Premise    : An artist replicating another artist's work and a man looking at the original art.\n",
      "Hypothesis : A person is crafting a replica of another's creation.\n",
      "Actual     : entailment\n",
      "Predicted  : neutral\n",
      "\n",
      "Example #18\n",
      "Premise    : A woman with a white blanket over her head is holding a baby wrapped in a blue, pink, and yellow blanket.\n",
      "Hypothesis : The blanket is white.\n",
      "Actual     : entailment\n",
      "Predicted  : neutral\n",
      "\n",
      "Example #19\n",
      "Premise    : A young girl is playing a musical instrument and singing into a microphone.\n",
      "Hypothesis : A little girl belts one out while playing the violin.\n",
      "Actual     : neutral\n",
      "Predicted  : contradiction\n",
      "\n",
      "Example #20\n",
      "Premise    : Little girl blows bubbles in a public square.\n",
      "Hypothesis : Little boy blows spit at people who walk by.\n",
      "Actual     : contradiction\n",
      "Predicted  : entailment\n"
     ]
    }
   ],
   "source": [
    "from sklearn.svm import LinearSVC\n",
    "from sklearn.metrics import classification_report, confusion_matrix\n",
    "import matplotlib.pyplot as plt\n",
    "import seaborn as sns\n",
    "\n",
    "# Define class labels\n",
    "labels = [\"entailment\", \"neutral\", \"contradiction\"]\n",
    "\n",
    "# Initialize and train the SVM model\n",
    "svm_model = LinearSVC(max_iter=2000)\n",
    "svm_model.fit(X_train_tfidf, y_train)\n",
    "\n",
    "# Predict on test set\n",
    "y_pred_svm = svm_model.predict(X_test_tfidf)\n",
    "\n",
    "# Print classification report\n",
    "print(\" Linear SVM - Classification Report:\")\n",
    "print(classification_report(y_test, y_pred_svm, target_names=labels))\n",
    "\n",
    "# Confusion matrix\n",
    "cm_svm = confusion_matrix(y_test, y_pred_svm)\n",
    "\n",
    "# Plot confusion matrix\n",
    "plt.figure(figsize=(6, 5))\n",
    "sns.heatmap(cm_svm, annot=True, fmt=\"d\", cmap=\"Purples\", xticklabels=labels, yticklabels=labels)\n",
    "plt.title(\"Linear SVM - Confusion Matrix\")\n",
    "plt.xlabel(\"Predicted\")\n",
    "plt.ylabel(\"Actual\")\n",
    "plt.tight_layout()\n",
    "plt.show()\n",
    "\n",
    "\n",
    "# Show 20 incorrect predictions for error analysis\n",
    "print(\"\\n🔍 Linear SVM – Error Examples:\")\n",
    "count = 0\n",
    "for i in range(len(y_test)):\n",
    "    if y_test[i] != y_pred_svm[i]:\n",
    "        print(f\"\\nExample #{count+1}\")\n",
    "        print(f\"Premise    : {test_data[i]['premise']}\")\n",
    "        print(f\"Hypothesis : {test_data[i]['hypothesis']}\")\n",
    "        print(f\"Actual     : {labels[y_test[i]]}\")\n",
    "        print(f\"Predicted  : {labels[y_pred_svm[i]]}\")\n",
    "        count += 1\n",
    "        if count >= 20:\n",
    "            break\n"
   ]
  },
  {
   "cell_type": "markdown",
   "id": "c359028a-1306-4edf-a01c-51cd34fefc1d",
   "metadata": {},
   "source": [
    "### Step 3.4 Baseline Model Comparison"
   ]
  },
  {
   "cell_type": "code",
   "execution_count": 17,
   "id": "af9bd756-c6f3-479f-b15b-2e9b4c924c3a",
   "metadata": {},
   "outputs": [
    {
     "data": {
      "text/html": [
       "<h3 style='text-align:left;'>📊 Baseline Model Performance</h3>"
      ],
      "text/plain": [
       "<IPython.core.display.HTML object>"
      ]
     },
     "metadata": {},
     "output_type": "display_data"
    },
    {
     "data": {
      "text/html": [
       "<style type=\"text/css\">\n",
       "#T_28dce th {\n",
       "  text-align: center;\n",
       "}\n",
       "#T_28dce_row0_col0, #T_28dce_row0_col1, #T_28dce_row0_col2, #T_28dce_row0_col3, #T_28dce_row0_col4, #T_28dce_row1_col0, #T_28dce_row1_col1, #T_28dce_row1_col2, #T_28dce_row1_col3, #T_28dce_row1_col4, #T_28dce_row2_col0, #T_28dce_row2_col1, #T_28dce_row2_col2, #T_28dce_row2_col3, #T_28dce_row2_col4 {\n",
       "  text-align: center;\n",
       "}\n",
       "</style>\n",
       "<table id=\"T_28dce\">\n",
       "  <thead>\n",
       "    <tr>\n",
       "      <th class=\"blank level0\" >&nbsp;</th>\n",
       "      <th id=\"T_28dce_level0_col0\" class=\"col_heading level0 col0\" >Model</th>\n",
       "      <th id=\"T_28dce_level0_col1\" class=\"col_heading level0 col1\" >Accuracy</th>\n",
       "      <th id=\"T_28dce_level0_col2\" class=\"col_heading level0 col2\" >Precision</th>\n",
       "      <th id=\"T_28dce_level0_col3\" class=\"col_heading level0 col3\" >Recall</th>\n",
       "      <th id=\"T_28dce_level0_col4\" class=\"col_heading level0 col4\" >F1-score</th>\n",
       "    </tr>\n",
       "  </thead>\n",
       "  <tbody>\n",
       "    <tr>\n",
       "      <th id=\"T_28dce_level0_row0\" class=\"row_heading level0 row0\" >0</th>\n",
       "      <td id=\"T_28dce_row0_col0\" class=\"data row0 col0\" >Logistic Regression</td>\n",
       "      <td id=\"T_28dce_row0_col1\" class=\"data row0 col1\" >0.4832</td>\n",
       "      <td id=\"T_28dce_row0_col2\" class=\"data row0 col2\" >0.4841</td>\n",
       "      <td id=\"T_28dce_row0_col3\" class=\"data row0 col3\" >0.4800</td>\n",
       "      <td id=\"T_28dce_row0_col4\" class=\"data row0 col4\" >0.4831</td>\n",
       "    </tr>\n",
       "    <tr>\n",
       "      <th id=\"T_28dce_level0_row1\" class=\"row_heading level0 row1\" >1</th>\n",
       "      <td id=\"T_28dce_row1_col0\" class=\"data row1 col0\" >Naive Bayes</td>\n",
       "      <td id=\"T_28dce_row1_col1\" class=\"data row1 col1\" >0.4618</td>\n",
       "      <td id=\"T_28dce_row1_col2\" class=\"data row1 col2\" >0.4700</td>\n",
       "      <td id=\"T_28dce_row1_col3\" class=\"data row1 col3\" >0.4500</td>\n",
       "      <td id=\"T_28dce_row1_col4\" class=\"data row1 col4\" >0.4606</td>\n",
       "    </tr>\n",
       "    <tr>\n",
       "      <th id=\"T_28dce_level0_row2\" class=\"row_heading level0 row2\" >2</th>\n",
       "      <td id=\"T_28dce_row2_col0\" class=\"data row2 col0\" >Support Vector Machine</td>\n",
       "      <td id=\"T_28dce_row2_col1\" class=\"data row2 col1\" >0.4712</td>\n",
       "      <td id=\"T_28dce_row2_col2\" class=\"data row2 col2\" >0.4750</td>\n",
       "      <td id=\"T_28dce_row2_col3\" class=\"data row2 col3\" >0.4700</td>\n",
       "      <td id=\"T_28dce_row2_col4\" class=\"data row2 col4\" >0.4711</td>\n",
       "    </tr>\n",
       "  </tbody>\n",
       "</table>\n"
      ],
      "text/plain": [
       "<pandas.io.formats.style.Styler at 0x301827790>"
      ]
     },
     "metadata": {},
     "output_type": "display_data"
    },
    {
     "data": {
      "image/png": "[encoded data removed]",
      "text/plain": [
       "<Figure size 1000x600 with 1 Axes>"
      ]
     },
     "metadata": {},
     "output_type": "display_data"
    }
   ],
   "source": [
    "from IPython.display import display, HTML\n",
    "import pandas as pd\n",
    "import matplotlib.pyplot as plt\n",
    "\n",
    "# Fill in actual results\n",
    "results = {\n",
    "    \"Logistic Regression\": {\"Accuracy\": 0.4832, \"Precision\": 0.4841, \"Recall\": 0.4800, \"F1-score\": 0.4831},\n",
    "    \"Naive Bayes\": {\"Accuracy\": 0.4618, \"Precision\": 0.4700, \"Recall\": 0.4500, \"F1-score\": 0.4606},\n",
    "    \"Support Vector Machine\": {\"Accuracy\": 0.4712, \"Precision\": 0.4750, \"Recall\": 0.4700, \"F1-score\": 0.4711},\n",
    "}\n",
    "\n",
    "# Create DataFrame\n",
    "df = pd.DataFrame.from_dict(results, orient=\"index\").reset_index().rename(columns={\"index\": \"Model\"})\n",
    "\n",
    "# Display header\n",
    "display(HTML(\"<h3 style='text-align:left;'>📊 Baseline Model Performance</h3>\"))\n",
    "\n",
    "# Format table nicely\n",
    "styled_table = df.style.set_properties(**{'text-align': 'center'}).format({\n",
    "    'Accuracy': '{:.4f}',\n",
    "    'Precision': '{:.4f}',\n",
    "    'Recall': '{:.4f}',\n",
    "    'F1-score': '{:.4f}'\n",
    "}).set_table_styles([{'selector': 'th', 'props': [('text-align', 'center')]}])\n",
    "display(styled_table)\n",
    "\n",
    "# Plot with distinct colors\n",
    "plt.figure(figsize=(10, 6))\n",
    "bar_width = 0.2\n",
    "index = range(len(df))\n",
    "\n",
    "plt.bar(index, df[\"Accuracy\"], bar_width, label=\"Accuracy\", color=\"#3498db\")         # Blue\n",
    "plt.bar([i + bar_width for i in index], df[\"Precision\"], bar_width, label=\"Precision\", color=\"#2ecc71\")  # Green\n",
    "plt.bar([i + 2 * bar_width for i in index], df[\"Recall\"], bar_width, label=\"Recall\", color=\"#e74c3c\")     # Red\n",
    "plt.bar([i + 3 * bar_width for i in index], df[\"F1-score\"], bar_width, label=\"F1-score\", color=\"#9b59b6\") # Purple\n",
    "\n",
    "plt.xlabel(\"Model\")\n",
    "plt.ylabel(\"Score\")\n",
    "plt.title(\"Baseline Model Comparison\")\n",
    "plt.xticks([i + 1.5 * bar_width for i in index], df[\"Model\"], rotation=15)\n",
    "plt.ylim(0.4, 0.6)\n",
    "plt.legend()\n",
    "plt.grid(axis='y', linestyle='--', alpha=0.5)\n",
    "plt.tight_layout()\n",
    "plt.show()\n"
   ]
  },
  {
   "cell_type": "code",
   "execution_count": null,
   "id": "129f3dba-366f-40d5-8416-2b2f04daa6d9",
   "metadata": {},
   "outputs": [],
   "source": []
  }
 ],
 "metadata": {
  "kernelspec": {
   "display_name": "project_nlp",
   "language": "python",
   "name": "project_nlp"
  },
  "language_info": {
   "codemirror_mode": {
    "name": "ipython",
    "version": 3
   },
   "file_extension": ".py",
   "mimetype": "text/x-python",
   "name": "python",
   "nbconvert_exporter": "python",
   "pygments_lexer": "ipython3",
   "version": "3.10.18"
  }
 },
 "nbformat": 4,
 "nbformat_minor": 5
}
