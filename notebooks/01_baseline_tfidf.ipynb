{
 "cells": [
  {
   "cell_type": "code",
   "execution_count": 7,
   "id": "83f5e624-e7ff-4573-add4-39f936bf7a0f",
   "metadata": {},
   "outputs": [
    {
     "name": "stdout",
     "output_type": "stream",
     "text": [
      "Python version      : 3.10.18 (main, Jun  5 2025, 08:37:47) [Clang 14.0.6 ]\n",
      "NumPy version       : 2.2.6\n",
      "Pandas version      : 2.3.1\n",
      "Scikit-learn version: 1.7.1\n",
      "Matplotlib version  : 3.10.5\n",
      "Seaborn version     : 0.13.2\n",
      "Transformers version: 4.54.1\n",
      "Huggingface Datasets: 4.0.0\n",
      "PyTorch version     : 2.7.1\n",
      "TQDM version        : 4.67.1\n",
      "CPU architecture    : arm\n"
     ]
    }
   ],
   "source": [
    "# System Info\n",
    "import sys       # Access system-specific parameters and Python version\n",
    "import os        # Interface with the operating system\n",
    "import platform  # Get underlying platform and hardware info\n",
    "\n",
    "# Data Processing\n",
    "import numpy  # Numerical operations and arrays\n",
    "import pandas as pd  # Data manipulation and analysis using DataFrames\n",
    "\n",
    "# Visualization\n",
    "import matplotlib  # Basic plotting library\n",
    "import seaborn as sns  # Statistical data visualization on top of matplotlib\n",
    "\n",
    "# Machine Learning & NLP\n",
    "import sklearn  # Machine learning tools and TF-IDF baseline\n",
    "import transformers  # Huggingface library for pretrained transformer models like BERT\n",
    "import datasets  # Huggingface datasets library for loading NLP datasets\n",
    "\n",
    "# Deep Learning\n",
    "import torch  # PyTorch library for tensor operations and model training\n",
    "\n",
    "# Progress Bars\n",
    "import tqdm  # Show progress bars for loops and training\n",
    "\n",
    "# Display versions\n",
    "print(f\"Python version      : {sys.version}\")\n",
    "print(f\"NumPy version       : {numpy.__version__}\")\n",
    "print(f\"Pandas version      : {pd.__version__}\")\n",
    "print(f\"Scikit-learn version: {sklearn.__version__}\")\n",
    "print(f\"Matplotlib version  : {matplotlib.__version__}\")\n",
    "print(f\"Seaborn version     : {sns.__version__}\")\n",
    "print(f\"Transformers version: {transformers.__version__}\")\n",
    "print(f\"Huggingface Datasets: {datasets.__version__}\")\n",
    "print(f\"PyTorch version     : {torch.__version__}\")\n",
    "print(f\"TQDM version        : {tqdm.__version__}\")\n",
    "print(f\"CPU architecture    : {platform.processor() or platform.machine()}\")"
   ]
  },
  {
   "cell_type": "code",
   "execution_count": null,
   "id": "52a9fc5c-7f52-4006-b5f6-cfef4d62750f",
   "metadata": {},
   "outputs": [],
   "source": []
  }
 ],
 "metadata": {
  "kernelspec": {
   "display_name": "project_nlp",
   "language": "python",
   "name": "project_nlp"
  },
  "language_info": {
   "codemirror_mode": {
    "name": "ipython",
    "version": 3
   },
   "file_extension": ".py",
   "mimetype": "text/x-python",
   "name": "python",
   "nbconvert_exporter": "python",
   "pygments_lexer": "ipython3",
   "version": "3.10.18"
  }
 },
 "nbformat": 4,
 "nbformat_minor": 5
}
